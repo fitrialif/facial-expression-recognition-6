{
 "cells": [
  {
   "cell_type": "markdown",
   "metadata": {},
   "source": [
    "# Multi-layer convolutional neural network model for facial expression recognition\n",
    "\n",
    "Note: This program is modified from this tutorial: https://www.tensorflow.org/versions/r0.10/tutorials/mnist/pros/index.html, and it is used as a proof-of-concept for our project.\n",
    "\n",
    "Required packages are:\n",
    "* Tensorflow\n",
    "* NumPy\n",
    "* Scipy\n",
    "* Opencv"
   ]
  },
  {
   "cell_type": "code",
   "execution_count": 29,
   "metadata": {
    "collapsed": false
   },
   "outputs": [],
   "source": [
    "from utils import *\n",
    "import tensorflow as tf\n",
    "import numpy as np\n",
    "import cPickle as pickle"
   ]
  },
  {
   "cell_type": "code",
   "execution_count": 2,
   "metadata": {
    "collapsed": true
   },
   "outputs": [],
   "source": [
    "# Path of summary files for Tensorboard\n",
    "# Note:\n",
    "# After viewing the summaries in Tensorboard, delete this directory. Because\n",
    "# the next time you run the code, all summaries will be appended to the same location,\n",
    "# which will mess up the data.\n",
    "log_path = '/tmp/facial_log'"
   ]
  },
  {
   "cell_type": "markdown",
   "metadata": {},
   "source": [
    "# Load dataset"
   ]
  },
  {
   "cell_type": "code",
   "execution_count": 3,
   "metadata": {
    "collapsed": false
   },
   "outputs": [
    {
     "name": "stdout",
     "output_type": "stream",
     "text": [
      "(24, 300, 200, 3)\n",
      "[ 5.  1.  3.  4.  4.  2.  1.  1.  4.  4.  4.  1.  4.  2.  4.  4.  4.  4.\n",
      "  1.  4.  4.  1.  4.  4.]\n",
      "['anger', 'disgust', 'fear', 'happiness', 'sadness']\n",
      "[[ 0.  0.  0.  0.  1.  0.  0.  0.  0.  0.]\n",
      " [ 1.  0.  0.  0.  0.  0.  0.  0.  0.  0.]\n",
      " [ 0.  0.  1.  0.  0.  0.  0.  0.  0.  0.]\n",
      " [ 0.  0.  0.  1.  0.  0.  0.  0.  0.  0.]\n",
      " [ 0.  0.  0.  1.  0.  0.  0.  0.  0.  0.]\n",
      " [ 0.  1.  0.  0.  0.  0.  0.  0.  0.  0.]\n",
      " [ 1.  0.  0.  0.  0.  0.  0.  0.  0.  0.]\n",
      " [ 1.  0.  0.  0.  0.  0.  0.  0.  0.  0.]\n",
      " [ 0.  0.  0.  1.  0.  0.  0.  0.  0.  0.]\n",
      " [ 0.  0.  0.  1.  0.  0.  0.  0.  0.  0.]\n",
      " [ 0.  0.  0.  1.  0.  0.  0.  0.  0.  0.]\n",
      " [ 1.  0.  0.  0.  0.  0.  0.  0.  0.  0.]\n",
      " [ 0.  0.  0.  1.  0.  0.  0.  0.  0.  0.]\n",
      " [ 0.  1.  0.  0.  0.  0.  0.  0.  0.  0.]\n",
      " [ 0.  0.  0.  1.  0.  0.  0.  0.  0.  0.]\n",
      " [ 0.  0.  0.  1.  0.  0.  0.  0.  0.  0.]\n",
      " [ 0.  0.  0.  1.  0.  0.  0.  0.  0.  0.]\n",
      " [ 0.  0.  0.  1.  0.  0.  0.  0.  0.  0.]\n",
      " [ 1.  0.  0.  0.  0.  0.  0.  0.  0.  0.]\n",
      " [ 0.  0.  0.  1.  0.  0.  0.  0.  0.  0.]\n",
      " [ 0.  0.  0.  1.  0.  0.  0.  0.  0.  0.]\n",
      " [ 1.  0.  0.  0.  0.  0.  0.  0.  0.  0.]\n",
      " [ 0.  0.  0.  1.  0.  0.  0.  0.  0.  0.]\n",
      " [ 0.  0.  0.  1.  0.  0.  0.  0.  0.  0.]]\n"
     ]
    }
   ],
   "source": [
    "dataset, label_index, label_tag = load_data('dataset')\n",
    "label_onehot = one_hot(label_index, 10)\n",
    "print dataset.shape\n",
    "print label_index\n",
    "print label_tag\n",
    "print label_onehot"
   ]
  },
  {
   "cell_type": "markdown",
   "metadata": {},
   "source": [
    "# Splite data into trainning set and test set"
   ]
  },
  {
   "cell_type": "code",
   "execution_count": 31,
   "metadata": {
    "collapsed": true
   },
   "outputs": [],
   "source": [
    "train_x = dataset[0:18, :, :, :]\n",
    "train_y = label_onehot[0:18]\n",
    "test_x = dataset[18:, :, :, :]\n",
    "test_y = label_onehot[18:]"
   ]
  },
  {
   "cell_type": "markdown",
   "metadata": {},
   "source": [
    "# Define some shortcuts"
   ]
  },
  {
   "cell_type": "code",
   "execution_count": 5,
   "metadata": {
    "collapsed": true
   },
   "outputs": [],
   "source": [
    "def weight_variable(shape):\n",
    "    \"\"\" Weight initialization \"\"\"\n",
    "    initial = tf.truncated_normal(shape, stddev=0.1)\n",
    "    return tf.Variable(initial)\n",
    "\n",
    "def bias_variable(shape):\n",
    "    \"\"\" Bias initialization \"\"\"\n",
    "    initial = tf.constant(0.1, shape=shape)\n",
    "    return tf.Variable(initial)\n",
    "\n",
    "def conv2d(x, W):\n",
    "    \"\"\" Convolution operation \"\"\"\n",
    "    return tf.nn.conv2d(x, W, strides=[1, 1, 1, 1], padding='SAME')\n",
    "\n",
    "def max_pool_2x2(x):\n",
    "    \"\"\" Pooling \"\"\"\n",
    "    return tf.nn.max_pool(x, ksize=[1, 2, 2, 1],\n",
    "                          strides=[1, 2, 2, 1], padding='SAME')"
   ]
  },
  {
   "cell_type": "markdown",
   "metadata": {},
   "source": [
    "# Build the model"
   ]
  },
  {
   "cell_type": "code",
   "execution_count": 7,
   "metadata": {
    "collapsed": false
   },
   "outputs": [],
   "source": [
    "# Input Layer\n",
    "with tf.name_scope('Input'):\n",
    "    x = tf.placeholder(tf.float32, shape=[None, image_height, image_width, image_channel])\n",
    "    y_ = tf.placeholder(tf.float32, shape=[None, 10])\n",
    "\n",
    "# First Convolutional Layer\n",
    "with tf.name_scope('ConvL1'):\n",
    "    W_conv1 = weight_variable([5, 5, image_channel, 32])\n",
    "    b_conv1 = bias_variable([32])\n",
    "    x_image = tf.reshape(x, [-1,image_height,image_width,image_channel])\n",
    "#    x_image = x\n",
    "    h_conv1 = tf.nn.relu(conv2d(x_image, W_conv1) + b_conv1)\n",
    "    h_pool = max_pool_2x2(h_conv1)\n",
    "\n",
    "# Second Convolutional Layer\n",
    "with tf.name_scope('ConvL2'):\n",
    "    W_conv2 = weight_variable([5, 5, 32, 64])\n",
    "    b_conv2 = bias_variable([64])\n",
    "    h_conv2 = tf.nn.relu(conv2d(h_pool, W_conv2) + b_conv2)\n",
    "    h_pool2 = max_pool_2x2(h_conv2)\n",
    "\n",
    "# Densely Connected Layer\n",
    "with tf.name_scope('DenselyConnectedLayer'):\n",
    "#    W_fc1 = weight_variable([7 * 7 * 64, 1024])\n",
    "    W_fc1 = weight_variable([75 * 50 * 64, 1024])\n",
    "    b_fc1 = bias_variable([1024])\n",
    "#    h_pool2_flat = tf.reshape(h_pool2, [-1, 7*7*64])\n",
    "    h_pool2_flat = tf.reshape(h_pool2, [-1, 75*50*64])\n",
    "    h_fc1 = tf.nn.relu(tf.matmul(h_pool2_flat, W_fc1) + b_fc1)\n",
    "\n",
    "# Dropout\n",
    "with tf.name_scope('Dropout'):\n",
    "    keep_prob = tf.placeholder(tf.float32)\n",
    "    h_fc1_drop = tf.nn.dropout(h_fc1, keep_prob)\n",
    "\n",
    "# Readout Layer\n",
    "with tf.name_scope('ReadoutLayer'):\n",
    "    W_fc2 = weight_variable([1024, 10])\n",
    "    b_fc2 = bias_variable([10])\n",
    "    y_conv = tf.nn.softmax(tf.matmul(h_fc1_drop, W_fc2) + b_fc2)\n",
    "\n",
    "# Lost Function\n",
    "with tf.name_scope('LostFunction'):\n",
    "    cross_entropy = tf.reduce_mean(-tf.reduce_sum(y_ * tf.log(y_conv), reduction_indices=[1]))"
   ]
  },
  {
   "cell_type": "code",
   "execution_count": 8,
   "metadata": {
    "collapsed": false
   },
   "outputs": [
    {
     "data": {
      "text/plain": [
       "<tf.Tensor 'ScalarSummary:0' shape=() dtype=string>"
      ]
     },
     "execution_count": 8,
     "metadata": {},
     "output_type": "execute_result"
    }
   ],
   "source": [
    "# Create summary entries\n",
    "# Important note: do not add entries after tf.merge_all_summaries, otherwise the program will crashed!\n",
    "tf.scalar_summary('loss-cross-entropy', cross_entropy)"
   ]
  },
  {
   "cell_type": "markdown",
   "metadata": {},
   "source": [
    "# Train the model"
   ]
  },
  {
   "cell_type": "code",
   "execution_count": 9,
   "metadata": {
    "collapsed": true
   },
   "outputs": [],
   "source": [
    "train_step = tf.train.AdamOptimizer(1e-4).minimize(cross_entropy)\n",
    "correct_prediction = tf.equal(tf.argmax(y_conv,1), tf.argmax(y_,1))\n",
    "accuracy = tf.reduce_mean(tf.cast(correct_prediction, tf.float32))\n",
    "\n",
    "# This is for gathering statistics to be write to the summary\n",
    "summary_op = tf.merge_all_summaries()"
   ]
  },
  {
   "cell_type": "markdown",
   "metadata": {},
   "source": [
    "# Run the session"
   ]
  },
  {
   "cell_type": "code",
   "execution_count": 34,
   "metadata": {
    "collapsed": false
   },
   "outputs": [
    {
     "name": "stdout",
     "output_type": "stream",
     "text": [
      "Accuracy on test set:  0.333333\n"
     ]
    }
   ],
   "source": [
    "with tf.Session() as sess:\n",
    "    sess.run(tf.initialize_all_variables())\n",
    "    writer = tf.train.SummaryWriter(log_path, graph=sess.graph)\n",
    "    for i in range(50):\n",
    "#        batch = mnist.train.next_batch(50)\n",
    "        batch = next_batch(train_x, train_y, 5)\n",
    "#        if i%100 == 0:\n",
    "#            train_accuracy = sess.run(accuracy, feed_dict={\n",
    "#                x:batch[0], y_: batch[1], keep_prob: 1.0})\n",
    "#            print(\"step %d, training accuracy %g\"%(i, train_accuracy))\n",
    "        _, summary = sess.run([train_step, summary_op], feed_dict=\n",
    "                        {x: batch[0], y_: batch[1], keep_prob: 0.5})\n",
    "        writer.add_summary(summary, i)\n",
    "        \n",
    "    test_accuracy = sess.run(accuracy, feed_dict={\n",
    "            x: test_x, y_: test_y, keep_prob: 1.0\n",
    "        })\n",
    "    print 'Accuracy on test set: ', test_accuracy\n",
    "\n",
    "    # Gather the parameters\n",
    "    w1 = sess.run(W_conv1)\n",
    "    b1 = sess.run(b_conv1)\n",
    "    w2 = sess.run(W_conv2)\n",
    "    b2 = sess.run(b_conv2)\n",
    "    wfc1 = sess.run(W_fc1)\n",
    "    bfc1 = sess.run(b_fc1)\n",
    "    wfc2 = sess.run(W_fc2)\n",
    "    bfc2 = sess.run(b_fc2)"
   ]
  },
  {
   "cell_type": "markdown",
   "metadata": {},
   "source": [
    "# Write parameters to disk for reuse"
   ]
  },
  {
   "cell_type": "code",
   "execution_count": 36,
   "metadata": {
    "collapsed": false
   },
   "outputs": [],
   "source": [
    "# The data takes about 1GB..\n",
    "#with open('parm.dat', 'wb') as f:\n",
    "#    pickle.dump([w1, b1, w2, b2, wfc1, bfc1, wfc2, bfc2], f, pickle.HIGHEST_PROTOCOL)"
   ]
  },
  {
   "cell_type": "code",
   "execution_count": null,
   "metadata": {
    "collapsed": true
   },
   "outputs": [],
   "source": []
  }
 ],
 "metadata": {
  "kernelspec": {
   "display_name": "Python [Root]",
   "language": "python",
   "name": "Python [Root]"
  },
  "language_info": {
   "codemirror_mode": {
    "name": "ipython",
    "version": 2
   },
   "file_extension": ".py",
   "mimetype": "text/x-python",
   "name": "python",
   "nbconvert_exporter": "python",
   "pygments_lexer": "ipython2",
   "version": "2.7.12"
  }
 },
 "nbformat": 4,
 "nbformat_minor": 1
}
